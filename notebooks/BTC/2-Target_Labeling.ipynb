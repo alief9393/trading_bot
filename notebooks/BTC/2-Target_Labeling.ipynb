{
 "cells": [
  {
   "cell_type": "code",
   "execution_count": null,
   "id": "fe3a4f7f",
   "metadata": {},
   "outputs": [],
   "source": [
    "import pandas as pd\n",
    "import numpy as np\n",
    "\n",
    "data_path = '../../data/btc_usd_h4_features.csv'\n",
    "df = pd.read_csv(data_path, index_col='timestamp', parse_dates=True)\n",
    "\n",
    "print(\"Data loaded successfully.\")\n",
    "display(df.head())"
   ]
  },
  {
   "cell_type": "code",
   "execution_count": null,
   "id": "72db7bb4",
   "metadata": {},
   "outputs": [],
   "source": [
    "def define_target(df, atr_multiplier_tp=3.0, atr_multiplier_sl=1.5, lookahead_candles=30):\n",
    "    df['target'] = 0\n",
    "    \n",
    "    # Find the correct ATR column name automatically\n",
    "    atr_column_name = next((col for col in df.columns if 'ATRr_' in col), None)\n",
    "    if not atr_column_name:\n",
    "        raise ValueError(\"ATR column not found in DataFrame. Please ensure it's calculated in Notebook 1.\")\n",
    "        \n",
    "    for i in range(len(df) - lookahead_candles):\n",
    "        entry_price = df['close'].iloc[i]\n",
    "        atr_value = df[atr_column_name].iloc[i]\n",
    "\n",
    "        future_window_high = df['high'].iloc[i+1 : i+1+lookahead_candles]\n",
    "        future_window_low = df['low'].iloc[i+1 : i+1+lookahead_candles]\n",
    "        \n",
    "        take_profit_buy = entry_price + (atr_value * atr_multiplier_tp)\n",
    "        stop_loss_buy = entry_price - (atr_value * atr_multiplier_sl)\n",
    "        \n",
    "        take_profit_sell = entry_price - (atr_value * atr_multiplier_tp)\n",
    "        stop_loss_sell = entry_price + (atr_value * atr_multiplier_sl)\n",
    "        \n",
    "        buy_profit_hit_time = future_window_high[future_window_high >= take_profit_buy].first_valid_index()\n",
    "        buy_loss_hit_time = future_window_low[future_window_low <= stop_loss_buy].first_valid_index()\n",
    "        \n",
    "        if buy_profit_hit_time is not None and (buy_loss_hit_time is None or buy_profit_hit_time < buy_loss_hit_time):\n",
    "            df.loc[df.index[i], 'target'] = 1\n",
    "            continue\n",
    "\n",
    "        sell_profit_hit_time = future_window_low[future_window_low <= take_profit_sell].first_valid_index()\n",
    "        sell_loss_hit_time = future_window_high[future_window_high >= stop_loss_sell].first_valid_index()\n",
    "        \n",
    "        if sell_profit_hit_time is not None and (sell_loss_hit_time is None or sell_profit_hit_time < sell_loss_hit_time):\n",
    "            df.loc[df.index[i], 'target'] = -1\n",
    "            continue\n",
    "            \n",
    "    return df\n",
    "\n",
    "print(\"New dynamic define_target function created and ready.\")"
   ]
  },
  {
   "cell_type": "code",
   "execution_count": null,
   "id": "03bb2b4c",
   "metadata": {},
   "outputs": [],
   "source": [
    "labeled_df = define_target(df)\n",
    "\n",
    "print(\"Target labeling complete.\")\n",
    "\n",
    "target_distribution = labeled_df['target'].value_counts()\n",
    "print(\"\\nTarget Distribution:\")\n",
    "print(target_distribution)\n",
    "\n",
    "target_distribution.plot(kind='bar', title='Distribution of Target Labels (0=Hold, 1=Buy, -1=Sell)')"
   ]
  },
  {
   "cell_type": "code",
   "execution_count": null,
   "id": "29543802",
   "metadata": {},
   "outputs": [],
   "source": [
    "output_path = '../../data/btc_usd_h4_labeled.csv'\n",
    "labeled_df.to_csv(output_path)\n",
    "\n",
    "print(f\"Labeled data saved successfully to: {output_path}\")"
   ]
  }
 ],
 "metadata": {
  "kernelspec": {
   "display_name": "venv",
   "language": "python",
   "name": "python3"
  },
  "language_info": {
   "codemirror_mode": {
    "name": "ipython",
    "version": 3
   },
   "file_extension": ".py",
   "mimetype": "text/x-python",
   "name": "python",
   "nbconvert_exporter": "python",
   "pygments_lexer": "ipython3",
   "version": "3.11.8"
  }
 },
 "nbformat": 4,
 "nbformat_minor": 5
}
