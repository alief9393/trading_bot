{
 "cells": [
  {
   "cell_type": "code",
   "execution_count": null,
   "id": "7ac363ec",
   "metadata": {},
   "outputs": [],
   "source": [
    "import pandas as pd\n",
    "import xgboost as xgb\n",
    "from sklearn.model_selection import GridSearchCV, train_test_split\n",
    "from sklearn.metrics import classification_report\n",
    "\n",
    "print(\"Loading labeled data...\")\n",
    "data_path = '../../data/eurusd_h1_labeled.csv'\n",
    "df = pd.read_csv(data_path, index_col='time', parse_dates=True)\n",
    "df.dropna(inplace=True)\n",
    "print(\"Data loaded successfully.\")"
   ]
  },
  {
   "cell_type": "code",
   "execution_count": null,
   "id": "09632dca",
   "metadata": {},
   "outputs": [],
   "source": [
    "features = [col for col in df.columns if col not in ['open', 'high', 'low', 'close', 'volume', 'target']]\n",
    "X = df[features]\n",
    "y = df['target']\n",
    "\n",
    "X_train, X_test, y_train, y_test = train_test_split(X, y, test_size=0.3, shuffle=False)\n",
    "y_train_mapped = y_train.replace({-1: 2})\n",
    "y_test_mapped = y_test.replace({-1: 2})\n",
    "print(\"Data prepared for tuning.\")\n",
    "\n",
    "param_grid = {\n",
    "    'n_estimators': [200, 500],             # More trees\n",
    "    'learning_rate': [0.01, 0.05],          # Smaller learning rate\n",
    "    'max_depth': [3, 5],                    # Shallower, more robust trees\n",
    "    'gamma': [1, 5],                        # Stronger regularization\n",
    "    'reg_lambda': [5, 10],                  # Stronger L2 regularization\n",
    "    'subsample': [0.7, 0.9],                # Randomly sample data\n",
    "    'colsample_bytree': [0.7, 0.9]          # Randomly sample features/indicators\n",
    "}"
   ]
  },
  {
   "cell_type": "code",
   "execution_count": null,
   "id": "bb10953e",
   "metadata": {},
   "outputs": [],
   "source": [
    "model = xgb.XGBClassifier(\n",
    "    objective='multi:softprob',\n",
    "    num_class=3,\n",
    "    use_label_encoder=False,\n",
    "    eval_metric='mlogloss'\n",
    ")\n",
    "\n",
    "grid_search = GridSearchCV(\n",
    "    estimator=model,\n",
    "    param_grid=param_grid,\n",
    "    scoring='f1_weighted',\n",
    "    n_jobs=-1,\n",
    "    cv=3,\n",
    "    verbose=2\n",
    ")\n",
    "\n",
    "print(\"Starting Hyperparameter Search... This may take a long time.\")\n",
    "grid_search.fit(X_train, y_train_mapped)\n",
    "print(\"Search complete.\")"
   ]
  },
  {
   "cell_type": "code",
   "execution_count": null,
   "id": "be869ba6",
   "metadata": {},
   "outputs": [],
   "source": [
    "print(\"\\n--- Best Parameters Found ---\")\n",
    "print(grid_search.best_params_)"
   ]
  },
  {
   "cell_type": "code",
   "execution_count": null,
   "id": "70ab98fb",
   "metadata": {},
   "outputs": [],
   "source": [
    "print(\"\\n--- Performance of the Best Model on the Test Set ---\")\n",
    "best_model = grid_search.best_estimator_\n",
    "y_pred_mapped = best_model.predict(X_test)\n",
    "y_pred = pd.Series(y_pred_mapped).replace({2: -1}).values\n",
    "print(classification_report(y_test, y_pred, zero_division=0))"
   ]
  }
 ],
 "metadata": {
  "kernelspec": {
   "display_name": "venv",
   "language": "python",
   "name": "python3"
  },
  "language_info": {
   "codemirror_mode": {
    "name": "ipython",
    "version": 3
   },
   "file_extension": ".py",
   "mimetype": "text/x-python",
   "name": "python",
   "nbconvert_exporter": "python",
   "pygments_lexer": "ipython3",
   "version": "3.11.8"
  }
 },
 "nbformat": 4,
 "nbformat_minor": 5
}
