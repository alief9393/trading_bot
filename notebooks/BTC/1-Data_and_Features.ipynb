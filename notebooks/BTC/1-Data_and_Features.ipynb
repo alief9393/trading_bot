{
 "cells": [
  {
   "cell_type": "code",
   "execution_count": null,
   "id": "fa7720e8",
   "metadata": {},
   "outputs": [],
   "source": [
    "import sys\n",
    "import os\n",
    "import pandas as pd\n",
    "\n",
    "# This is a bit of a hack to allow the notebook to import from the services folder\n",
    "# It adds the parent directory of 'notebooks' (which is your project root) to the Python path\n",
    "module_path = os.path.abspath(os.path.join('../..'))\n",
    "if module_path not in sys.path:\n",
    "    sys.path.append(module_path)\n",
    "\n",
    "from services.data_service import DataService\n",
    "from services.indicator_service import IndicatorService\n",
    "\n",
    "print(\"Libraries and services imported successfully.\")"
   ]
  },
  {
   "cell_type": "code",
   "execution_count": null,
   "id": "d4c59b2a",
   "metadata": {},
   "outputs": [],
   "source": [
    "# In Notebook 1, Cell 2 -- The NEW Coinbase Integration\n",
    "\n",
    "# --- NEW: Import the CoinbaseDataService instead of the old one ---\n",
    "from services.coinbase_data_service import CoinbaseDataService\n",
    "\n",
    "# --- Initialize the new Coinbase service ---\n",
    "# No API keys needed for this step.\n",
    "data_svc = CoinbaseDataService()\n",
    "\n",
    "# --- Fetch the maximum available historical data from Coinbase ---\n",
    "START_DATE = \"2018-01-01\"\n",
    "# Ensure the symbol is 'BTC/USD'\n",
    "historical_df = data_svc.get_all_historical_data(symbol='BTC/USD', timeframe='4h', start_date=START_DATE)\n",
    "\n",
    "if historical_df is not None:\n",
    "    print(\"\\nSuccessfully fetched all historical BTC/USD data from Coinbase.\")\n",
    "    print(f\"Total Candles Fetched: {len(historical_df)}\")\n",
    "    print(f\"Data Range: from {historical_df.index.min()} to {historical_df.index.max()}\")\n",
    "    display(historical_df.head())"
   ]
  },
  {
   "cell_type": "code",
   "execution_count": null,
   "id": "a177ab9d",
   "metadata": {},
   "outputs": [],
   "source": [
    "indicator_svc = IndicatorService()\n",
    "\n",
    "# Add all the indicators to our historical data\n",
    "features_df = indicator_svc.add_all_indicators(historical_df)\n",
    "\n",
    "if features_df is not None:\n",
    "    print(\"Successfully added all indicators.\")\n",
    "    print(f\"New data shape: {features_df.shape}\")\n",
    "    print(\"Columns added:\", [col for col in features_df.columns if col not in historical_df.columns])\n",
    "    print(\"Data Head with Indicators:\")\n",
    "    display(features_df.head())"
   ]
  },
  {
   "cell_type": "code",
   "execution_count": null,
   "id": "91d7db8e",
   "metadata": {},
   "outputs": [],
   "source": [
    "# Create a 'data' directory if it doesn't exist to store our processed datasets\n",
    "data_dir = '../../data'\n",
    "if not os.path.exists(data_dir):\n",
    "    os.makedirs(data_dir)\n",
    "\n",
    "# Save the DataFrame to a CSV file\n",
    "output_path = os.path.join(data_dir, 'btc_usd_h4_features.csv')\n",
    "features_df.to_csv(output_path)\n",
    "\n",
    "print(f\"Processed data with features saved successfully to: {output_path}\")"
   ]
  }
 ],
 "metadata": {
  "kernelspec": {
   "display_name": "venv",
   "language": "python",
   "name": "python3"
  },
  "language_info": {
   "codemirror_mode": {
    "name": "ipython",
    "version": 3
   },
   "file_extension": ".py",
   "mimetype": "text/x-python",
   "name": "python",
   "nbconvert_exporter": "python",
   "pygments_lexer": "ipython3",
   "version": "3.11.8"
  }
 },
 "nbformat": 4,
 "nbformat_minor": 5
}
