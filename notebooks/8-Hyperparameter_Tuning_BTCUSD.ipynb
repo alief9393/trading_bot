{
 "cells": [
  {
   "cell_type": "code",
   "execution_count": 1,
   "id": "7ac363ec",
   "metadata": {},
   "outputs": [
    {
     "name": "stdout",
     "output_type": "stream",
     "text": [
      "Loading labeled data for BTC...\n",
      "Data loaded successfully.\n"
     ]
    }
   ],
   "source": [
    "import pandas as pd\n",
    "import xgboost as xgb\n",
    "from sklearn.model_selection import GridSearchCV, train_test_split\n",
    "from sklearn.metrics import classification_report\n",
    "\n",
    "print(\"Loading labeled data for BTC...\")\n",
    "data_path = '../data/btc_usd_h4_labeled.csv'\n",
    "df = pd.read_csv(data_path, index_col='timestamp', parse_dates=True)\n",
    "df.dropna(inplace=True)\n",
    "print(\"Data loaded successfully.\")"
   ]
  },
  {
   "cell_type": "code",
   "execution_count": 2,
   "id": "09632dca",
   "metadata": {},
   "outputs": [
    {
     "name": "stdout",
     "output_type": "stream",
     "text": [
      "Data prepared for tuning.\n"
     ]
    }
   ],
   "source": [
    "features = [col for col in df.columns if col not in ['open', 'high', 'low', 'close', 'volume', 'target']]\n",
    "X = df[features]\n",
    "y = df['target']\n",
    "\n",
    "# Split data (we'll use a smaller portion for faster tuning)\n",
    "X_train, X_test, y_train, y_test = train_test_split(X, y, test_size=0.3, shuffle=False)\n",
    "y_train_mapped = y_train.replace({-1: 2})\n",
    "y_test_mapped = y_test.replace({-1: 2})\n",
    "print(\"Data prepared for tuning.\")\n",
    "\n",
    "param_grid = {\n",
    "    'max_depth': [3, 5, 7],\n",
    "    'n_estimators': [100, 200],\n",
    "    'learning_rate': [0.05, 0.1],\n",
    "    'gamma': [0.5, 1],\n",
    "    'reg_lambda': [1, 2]\n",
    "}"
   ]
  },
  {
   "cell_type": "code",
   "execution_count": 3,
   "id": "bb10953e",
   "metadata": {},
   "outputs": [
    {
     "name": "stdout",
     "output_type": "stream",
     "text": [
      "Starting Hyperparameter Search... This may take a long time.\n",
      "Fitting 3 folds for each of 48 candidates, totalling 144 fits\n"
     ]
    },
    {
     "name": "stderr",
     "output_type": "stream",
     "text": [
      "/Users/aliefchandrawijaya/trading_bot/venv/lib/python3.11/site-packages/xgboost/sklearn.py:1395: UserWarning: `use_label_encoder` is deprecated in 1.7.0.\n",
      "  warnings.warn(\"`use_label_encoder` is deprecated in 1.7.0.\")\n",
      "/Users/aliefchandrawijaya/trading_bot/venv/lib/python3.11/site-packages/xgboost/sklearn.py:1395: UserWarning: `use_label_encoder` is deprecated in 1.7.0.\n",
      "  warnings.warn(\"`use_label_encoder` is deprecated in 1.7.0.\")\n",
      "/Users/aliefchandrawijaya/trading_bot/venv/lib/python3.11/site-packages/xgboost/sklearn.py:1395: UserWarning: `use_label_encoder` is deprecated in 1.7.0.\n",
      "  warnings.warn(\"`use_label_encoder` is deprecated in 1.7.0.\")\n"
     ]
    },
    {
     "name": "stdout",
     "output_type": "stream",
     "text": [
      "[CV] END gamma=0.5, learning_rate=0.05, max_depth=3, n_estimators=100, reg_lambda=2; total time=   2.2s\n",
      "[CV] END gamma=0.5, learning_rate=0.05, max_depth=3, n_estimators=100, reg_lambda=1; total time=   2.4s\n",
      "[CV] END gamma=0.5, learning_rate=0.05, max_depth=3, n_estimators=100, reg_lambda=2; total time=   2.4s\n",
      "[CV] END gamma=0.5, learning_rate=0.05, max_depth=3, n_estimators=100, reg_lambda=1; total time=   2.4s\n",
      "[CV] END gamma=0.5, learning_rate=0.05, max_depth=3, n_estimators=100, reg_lambda=1; total time=   2.5s\n",
      "[CV] END gamma=0.5, learning_rate=0.05, max_depth=3, n_estimators=100, reg_lambda=2; total time=   2.4s\n",
      "[CV] END gamma=0.5, learning_rate=0.05, max_depth=3, n_estimators=200, reg_lambda=1; total time=   4.9s\n",
      "[CV] END gamma=0.5, learning_rate=0.05, max_depth=3, n_estimators=200, reg_lambda=1; total time=   5.1s\n",
      "[CV] END gamma=0.5, learning_rate=0.05, max_depth=5, n_estimators=100, reg_lambda=1; total time=   4.4s\n",
      "[CV] END gamma=0.5, learning_rate=0.05, max_depth=5, n_estimators=100, reg_lambda=1; total time=   4.4s\n",
      "[CV] END gamma=0.5, learning_rate=0.05, max_depth=3, n_estimators=200, reg_lambda=2; total time=   5.0s\n",
      "[CV] END gamma=0.5, learning_rate=0.05, max_depth=3, n_estimators=200, reg_lambda=2; total time=   5.2s\n",
      "[CV] END gamma=0.5, learning_rate=0.05, max_depth=3, n_estimators=200, reg_lambda=2; total time=   5.1s\n",
      "[CV] END gamma=0.5, learning_rate=0.05, max_depth=3, n_estimators=200, reg_lambda=1; total time=   5.4s\n",
      "[CV] END gamma=0.5, learning_rate=0.05, max_depth=5, n_estimators=100, reg_lambda=1; total time=   4.4s\n",
      "[CV] END gamma=0.5, learning_rate=0.05, max_depth=5, n_estimators=100, reg_lambda=2; total time=   4.4s\n",
      "[CV] END gamma=0.5, learning_rate=0.05, max_depth=5, n_estimators=100, reg_lambda=2; total time=   4.2s\n",
      "[CV] END gamma=0.5, learning_rate=0.05, max_depth=5, n_estimators=100, reg_lambda=2; total time=   4.4s\n",
      "[CV] END gamma=0.5, learning_rate=0.05, max_depth=5, n_estimators=200, reg_lambda=1; total time=   8.9s\n",
      "[CV] END gamma=0.5, learning_rate=0.05, max_depth=5, n_estimators=200, reg_lambda=1; total time=   9.2s\n",
      "[CV] END gamma=0.5, learning_rate=0.05, max_depth=5, n_estimators=200, reg_lambda=1; total time=   9.1s\n",
      "[CV] END gamma=0.5, learning_rate=0.05, max_depth=5, n_estimators=200, reg_lambda=2; total time=   9.1s\n",
      "[CV] END gamma=0.5, learning_rate=0.05, max_depth=7, n_estimators=100, reg_lambda=1; total time=   6.4s\n",
      "[CV] END gamma=0.5, learning_rate=0.05, max_depth=7, n_estimators=100, reg_lambda=1; total time=   6.3s\n",
      "[CV] END gamma=0.5, learning_rate=0.05, max_depth=5, n_estimators=200, reg_lambda=2; total time=   9.1s\n",
      "[CV] END gamma=0.5, learning_rate=0.05, max_depth=5, n_estimators=200, reg_lambda=2; total time=   9.3s\n",
      "[CV] END gamma=0.5, learning_rate=0.05, max_depth=7, n_estimators=100, reg_lambda=1; total time=   6.6s\n",
      "[CV] END gamma=0.5, learning_rate=0.05, max_depth=7, n_estimators=100, reg_lambda=2; total time=   6.5s\n",
      "[CV] END gamma=0.5, learning_rate=0.05, max_depth=7, n_estimators=100, reg_lambda=2; total time=   6.8s\n",
      "[CV] END gamma=0.5, learning_rate=0.05, max_depth=7, n_estimators=100, reg_lambda=2; total time=   6.6s\n",
      "[CV] END gamma=0.5, learning_rate=0.1, max_depth=3, n_estimators=100, reg_lambda=1; total time=   2.7s\n",
      "[CV] END gamma=0.5, learning_rate=0.1, max_depth=3, n_estimators=100, reg_lambda=1; total time=   2.8s\n",
      "[CV] END gamma=0.5, learning_rate=0.1, max_depth=3, n_estimators=100, reg_lambda=1; total time=   2.9s\n",
      "[CV] END gamma=0.5, learning_rate=0.1, max_depth=3, n_estimators=100, reg_lambda=2; total time=   3.0s\n",
      "[CV] END gamma=0.5, learning_rate=0.05, max_depth=7, n_estimators=200, reg_lambda=1; total time=  13.3s\n",
      "[CV] END gamma=0.5, learning_rate=0.05, max_depth=7, n_estimators=200, reg_lambda=1; total time=  13.7s\n",
      "[CV] END gamma=0.5, learning_rate=0.1, max_depth=3, n_estimators=100, reg_lambda=2; total time=   2.7s\n",
      "[CV] END gamma=0.5, learning_rate=0.1, max_depth=3, n_estimators=100, reg_lambda=2; total time=   2.8s\n",
      "[CV] END gamma=0.5, learning_rate=0.05, max_depth=7, n_estimators=200, reg_lambda=1; total time=  13.8s\n",
      "[CV] END gamma=0.5, learning_rate=0.05, max_depth=7, n_estimators=200, reg_lambda=2; total time=  13.9s\n",
      "[CV] END gamma=0.5, learning_rate=0.1, max_depth=3, n_estimators=200, reg_lambda=1; total time=   5.5s\n",
      "[CV] END gamma=0.5, learning_rate=0.1, max_depth=3, n_estimators=200, reg_lambda=1; total time=   5.7s\n",
      "[CV] END gamma=0.5, learning_rate=0.05, max_depth=7, n_estimators=200, reg_lambda=2; total time=  13.8s\n",
      "[CV] END gamma=0.5, learning_rate=0.05, max_depth=7, n_estimators=200, reg_lambda=2; total time=  13.9s\n",
      "[CV] END gamma=0.5, learning_rate=0.1, max_depth=3, n_estimators=200, reg_lambda=1; total time=   5.5s\n",
      "[CV] END gamma=0.5, learning_rate=0.1, max_depth=3, n_estimators=200, reg_lambda=2; total time=   5.5s\n",
      "[CV] END gamma=0.5, learning_rate=0.1, max_depth=3, n_estimators=200, reg_lambda=2; total time=   5.5s\n",
      "[CV] END gamma=0.5, learning_rate=0.1, max_depth=3, n_estimators=200, reg_lambda=2; total time=   5.6s\n",
      "[CV] END gamma=0.5, learning_rate=0.1, max_depth=5, n_estimators=100, reg_lambda=1; total time=   4.8s\n",
      "[CV] END gamma=0.5, learning_rate=0.1, max_depth=5, n_estimators=100, reg_lambda=1; total time=   4.9s\n",
      "[CV] END gamma=0.5, learning_rate=0.1, max_depth=5, n_estimators=100, reg_lambda=1; total time=   4.8s\n",
      "[CV] END gamma=0.5, learning_rate=0.1, max_depth=5, n_estimators=100, reg_lambda=2; total time=   4.8s\n",
      "[CV] END gamma=0.5, learning_rate=0.1, max_depth=5, n_estimators=100, reg_lambda=2; total time=   4.9s\n",
      "[CV] END gamma=0.5, learning_rate=0.1, max_depth=5, n_estimators=100, reg_lambda=2; total time=   4.9s\n",
      "[CV] END gamma=0.5, learning_rate=0.1, max_depth=5, n_estimators=200, reg_lambda=1; total time=   9.8s\n",
      "[CV] END gamma=0.5, learning_rate=0.1, max_depth=5, n_estimators=200, reg_lambda=1; total time=   9.8s\n",
      "[CV] END gamma=0.5, learning_rate=0.1, max_depth=7, n_estimators=100, reg_lambda=1; total time=   7.0s\n",
      "[CV] END gamma=0.5, learning_rate=0.1, max_depth=7, n_estimators=100, reg_lambda=1; total time=   6.9s\n",
      "[CV] END gamma=0.5, learning_rate=0.1, max_depth=5, n_estimators=200, reg_lambda=2; total time=   9.5s\n",
      "[CV] END gamma=0.5, learning_rate=0.1, max_depth=5, n_estimators=200, reg_lambda=1; total time=   9.7s\n",
      "[CV] END gamma=0.5, learning_rate=0.1, max_depth=5, n_estimators=200, reg_lambda=2; total time=   9.7s\n",
      "[CV] END gamma=0.5, learning_rate=0.1, max_depth=5, n_estimators=200, reg_lambda=2; total time=   9.8s\n",
      "[CV] END gamma=0.5, learning_rate=0.1, max_depth=7, n_estimators=100, reg_lambda=2; total time=   7.0s\n",
      "[CV] END gamma=0.5, learning_rate=0.1, max_depth=7, n_estimators=100, reg_lambda=1; total time=   7.1s\n",
      "[CV] END gamma=0.5, learning_rate=0.1, max_depth=7, n_estimators=100, reg_lambda=2; total time=   7.0s\n",
      "[CV] END gamma=0.5, learning_rate=0.1, max_depth=7, n_estimators=100, reg_lambda=2; total time=   7.1s\n",
      "[CV] END gamma=1, learning_rate=0.05, max_depth=3, n_estimators=100, reg_lambda=1; total time=   2.7s\n",
      "[CV] END gamma=1, learning_rate=0.05, max_depth=3, n_estimators=100, reg_lambda=1; total time=   2.7s\n",
      "[CV] END gamma=1, learning_rate=0.05, max_depth=3, n_estimators=100, reg_lambda=1; total time=   2.8s\n",
      "[CV] END gamma=1, learning_rate=0.05, max_depth=3, n_estimators=100, reg_lambda=2; total time=   2.8s\n",
      "[CV] END gamma=1, learning_rate=0.05, max_depth=3, n_estimators=100, reg_lambda=2; total time=   2.8s\n",
      "[CV] END gamma=1, learning_rate=0.05, max_depth=3, n_estimators=100, reg_lambda=2; total time=   2.8s\n",
      "[CV] END gamma=0.5, learning_rate=0.1, max_depth=7, n_estimators=200, reg_lambda=1; total time=  14.0s\n",
      "[CV] END gamma=0.5, learning_rate=0.1, max_depth=7, n_estimators=200, reg_lambda=1; total time=  14.1s\n",
      "[CV] END gamma=0.5, learning_rate=0.1, max_depth=7, n_estimators=200, reg_lambda=1; total time=  14.1s\n",
      "[CV] END gamma=0.5, learning_rate=0.1, max_depth=7, n_estimators=200, reg_lambda=2; total time=  14.3s\n",
      "[CV] END gamma=0.5, learning_rate=0.1, max_depth=7, n_estimators=200, reg_lambda=2; total time=  14.1s\n",
      "[CV] END gamma=0.5, learning_rate=0.1, max_depth=7, n_estimators=200, reg_lambda=2; total time=  14.3s\n",
      "[CV] END gamma=1, learning_rate=0.05, max_depth=3, n_estimators=200, reg_lambda=1; total time=   5.6s\n",
      "[CV] END gamma=1, learning_rate=0.05, max_depth=3, n_estimators=200, reg_lambda=1; total time=   5.8s\n",
      "[CV] END gamma=1, learning_rate=0.05, max_depth=3, n_estimators=200, reg_lambda=1; total time=   5.7s\n",
      "[CV] END gamma=1, learning_rate=0.05, max_depth=3, n_estimators=200, reg_lambda=2; total time=   5.8s\n",
      "[CV] END gamma=1, learning_rate=0.05, max_depth=3, n_estimators=200, reg_lambda=2; total time=   5.7s\n",
      "[CV] END gamma=1, learning_rate=0.05, max_depth=3, n_estimators=200, reg_lambda=2; total time=   5.7s\n",
      "[CV] END gamma=1, learning_rate=0.05, max_depth=5, n_estimators=100, reg_lambda=1; total time=   4.8s\n",
      "[CV] END gamma=1, learning_rate=0.05, max_depth=5, n_estimators=100, reg_lambda=1; total time=   5.1s\n",
      "[CV] END gamma=1, learning_rate=0.05, max_depth=5, n_estimators=100, reg_lambda=1; total time=   5.0s\n",
      "[CV] END gamma=1, learning_rate=0.05, max_depth=5, n_estimators=100, reg_lambda=2; total time=   5.0s\n",
      "[CV] END gamma=1, learning_rate=0.05, max_depth=5, n_estimators=100, reg_lambda=2; total time=   5.0s\n",
      "[CV] END gamma=1, learning_rate=0.05, max_depth=5, n_estimators=100, reg_lambda=2; total time=   5.2s\n",
      "[CV] END gamma=1, learning_rate=0.05, max_depth=5, n_estimators=200, reg_lambda=1; total time=  10.4s\n",
      "[CV] END gamma=1, learning_rate=0.05, max_depth=5, n_estimators=200, reg_lambda=1; total time=  10.3s\n",
      "[CV] END gamma=1, learning_rate=0.05, max_depth=7, n_estimators=100, reg_lambda=1; total time=   7.6s\n",
      "[CV] END gamma=1, learning_rate=0.05, max_depth=7, n_estimators=100, reg_lambda=1; total time=   7.4s\n",
      "[CV] END gamma=1, learning_rate=0.05, max_depth=5, n_estimators=200, reg_lambda=1; total time=  10.4s\n",
      "[CV] END gamma=1, learning_rate=0.05, max_depth=5, n_estimators=200, reg_lambda=2; total time=  10.7s\n",
      "[CV] END gamma=1, learning_rate=0.05, max_depth=5, n_estimators=200, reg_lambda=2; total time=  10.3s\n",
      "[CV] END gamma=1, learning_rate=0.05, max_depth=5, n_estimators=200, reg_lambda=2; total time=  10.5s\n",
      "[CV] END gamma=1, learning_rate=0.05, max_depth=7, n_estimators=100, reg_lambda=1; total time=   7.5s\n",
      "[CV] END gamma=1, learning_rate=0.05, max_depth=7, n_estimators=100, reg_lambda=2; total time=   7.5s\n",
      "[CV] END gamma=1, learning_rate=0.05, max_depth=7, n_estimators=100, reg_lambda=2; total time=   7.2s\n",
      "[CV] END gamma=1, learning_rate=0.05, max_depth=7, n_estimators=100, reg_lambda=2; total time=   7.4s\n",
      "[CV] END gamma=1, learning_rate=0.1, max_depth=3, n_estimators=100, reg_lambda=1; total time=   3.0s\n",
      "[CV] END gamma=1, learning_rate=0.1, max_depth=3, n_estimators=100, reg_lambda=1; total time=   2.9s\n",
      "[CV] END gamma=1, learning_rate=0.1, max_depth=3, n_estimators=100, reg_lambda=1; total time=   3.0s\n",
      "[CV] END gamma=1, learning_rate=0.1, max_depth=3, n_estimators=100, reg_lambda=2; total time=   3.3s\n",
      "[CV] END gamma=1, learning_rate=0.05, max_depth=7, n_estimators=200, reg_lambda=1; total time=  14.8s\n",
      "[CV] END gamma=1, learning_rate=0.1, max_depth=3, n_estimators=100, reg_lambda=2; total time=   3.1s\n",
      "[CV] END gamma=1, learning_rate=0.05, max_depth=7, n_estimators=200, reg_lambda=1; total time=  15.0s\n",
      "[CV] END gamma=1, learning_rate=0.05, max_depth=7, n_estimators=200, reg_lambda=1; total time=  14.9s\n",
      "[CV] END gamma=1, learning_rate=0.1, max_depth=3, n_estimators=100, reg_lambda=2; total time=   2.9s\n",
      "[CV] END gamma=1, learning_rate=0.05, max_depth=7, n_estimators=200, reg_lambda=2; total time=  15.0s\n",
      "[CV] END gamma=1, learning_rate=0.05, max_depth=7, n_estimators=200, reg_lambda=2; total time=  14.6s\n",
      "[CV] END gamma=1, learning_rate=0.05, max_depth=7, n_estimators=200, reg_lambda=2; total time=  15.0s\n",
      "[CV] END gamma=1, learning_rate=0.1, max_depth=3, n_estimators=200, reg_lambda=1; total time=   6.1s\n",
      "[CV] END gamma=1, learning_rate=0.1, max_depth=3, n_estimators=200, reg_lambda=1; total time=   6.0s\n",
      "[CV] END gamma=1, learning_rate=0.1, max_depth=3, n_estimators=200, reg_lambda=1; total time=   6.0s\n",
      "[CV] END gamma=1, learning_rate=0.1, max_depth=3, n_estimators=200, reg_lambda=2; total time=   6.0s\n",
      "[CV] END gamma=1, learning_rate=0.1, max_depth=3, n_estimators=200, reg_lambda=2; total time=   6.0s\n",
      "[CV] END gamma=1, learning_rate=0.1, max_depth=3, n_estimators=200, reg_lambda=2; total time=   6.0s\n",
      "[CV] END gamma=1, learning_rate=0.1, max_depth=5, n_estimators=100, reg_lambda=1; total time=   5.3s\n",
      "[CV] END gamma=1, learning_rate=0.1, max_depth=5, n_estimators=100, reg_lambda=1; total time=   5.1s\n",
      "[CV] END gamma=1, learning_rate=0.1, max_depth=5, n_estimators=100, reg_lambda=1; total time=   5.3s\n",
      "[CV] END gamma=1, learning_rate=0.1, max_depth=5, n_estimators=100, reg_lambda=2; total time=   5.3s\n",
      "[CV] END gamma=1, learning_rate=0.1, max_depth=5, n_estimators=100, reg_lambda=2; total time=   5.3s\n",
      "[CV] END gamma=1, learning_rate=0.1, max_depth=5, n_estimators=100, reg_lambda=2; total time=   5.2s\n",
      "[CV] END gamma=1, learning_rate=0.1, max_depth=5, n_estimators=200, reg_lambda=1; total time=  10.5s\n",
      "[CV] END gamma=1, learning_rate=0.1, max_depth=5, n_estimators=200, reg_lambda=1; total time=  10.3s\n",
      "[CV] END gamma=1, learning_rate=0.1, max_depth=7, n_estimators=100, reg_lambda=1; total time=   7.5s\n",
      "[CV] END gamma=1, learning_rate=0.1, max_depth=7, n_estimators=100, reg_lambda=1; total time=   7.4s\n",
      "[CV] END gamma=1, learning_rate=0.1, max_depth=5, n_estimators=200, reg_lambda=1; total time=  10.3s\n",
      "[CV] END gamma=1, learning_rate=0.1, max_depth=5, n_estimators=200, reg_lambda=2; total time=  10.4s\n",
      "[CV] END gamma=1, learning_rate=0.1, max_depth=5, n_estimators=200, reg_lambda=2; total time=  10.3s\n",
      "[CV] END gamma=1, learning_rate=0.1, max_depth=5, n_estimators=200, reg_lambda=2; total time=  10.5s\n",
      "[CV] END gamma=1, learning_rate=0.1, max_depth=7, n_estimators=100, reg_lambda=1; total time=   7.9s\n",
      "[CV] END gamma=1, learning_rate=0.1, max_depth=7, n_estimators=100, reg_lambda=2; total time=   7.7s\n",
      "[CV] END gamma=1, learning_rate=0.1, max_depth=7, n_estimators=100, reg_lambda=2; total time=   7.9s\n",
      "[CV] END gamma=1, learning_rate=0.1, max_depth=7, n_estimators=100, reg_lambda=2; total time=   7.7s\n",
      "[CV] END gamma=1, learning_rate=0.1, max_depth=7, n_estimators=200, reg_lambda=1; total time=  14.5s\n",
      "[CV] END gamma=1, learning_rate=0.1, max_depth=7, n_estimators=200, reg_lambda=1; total time=  14.1s\n",
      "[CV] END gamma=1, learning_rate=0.1, max_depth=7, n_estimators=200, reg_lambda=1; total time=  14.0s\n",
      "[CV] END gamma=1, learning_rate=0.1, max_depth=7, n_estimators=200, reg_lambda=2; total time=  14.0s\n",
      "[CV] END gamma=1, learning_rate=0.1, max_depth=7, n_estimators=200, reg_lambda=2; total time=  12.4s\n",
      "[CV] END gamma=1, learning_rate=0.1, max_depth=7, n_estimators=200, reg_lambda=2; total time=  12.3s\n",
      "Search complete.\n"
     ]
    }
   ],
   "source": [
    "model = xgb.XGBClassifier(\n",
    "    objective='multi:softmax',\n",
    "    num_class=3,\n",
    "    use_label_encoder=False,\n",
    "    eval_metric='mlogloss'\n",
    ")\n",
    "\n",
    "grid_search = GridSearchCV(\n",
    "    estimator=model,\n",
    "    param_grid=param_grid,\n",
    "    scoring='f1_weighted',\n",
    "    n_jobs=-1,\n",
    "    cv=3,\n",
    "    verbose=2\n",
    ")\n",
    "\n",
    "print(\"Starting Hyperparameter Search... This may take a long time.\")\n",
    "grid_search.fit(X_train, y_train_mapped)\n",
    "print(\"Search complete.\")"
   ]
  },
  {
   "cell_type": "code",
   "execution_count": 4,
   "id": "be869ba6",
   "metadata": {},
   "outputs": [
    {
     "name": "stdout",
     "output_type": "stream",
     "text": [
      "\n",
      "--- Best Parameters Found ---\n",
      "{'gamma': 0.5, 'learning_rate': 0.05, 'max_depth': 3, 'n_estimators': 100, 'reg_lambda': 1}\n"
     ]
    }
   ],
   "source": [
    "print(\"\\n--- Best Parameters Found ---\")\n",
    "print(grid_search.best_params_)"
   ]
  },
  {
   "cell_type": "code",
   "execution_count": 5,
   "id": "70ab98fb",
   "metadata": {},
   "outputs": [
    {
     "name": "stdout",
     "output_type": "stream",
     "text": [
      "\n",
      "--- Performance of the Best Model on the Test Set ---\n",
      "              precision    recall  f1-score   support\n",
      "\n",
      "          -1       0.34      0.62      0.44      1103\n",
      "           0       0.39      0.39      0.39      1457\n",
      "           1       0.56      0.15      0.23      1276\n",
      "\n",
      "    accuracy                           0.38      3836\n",
      "   macro avg       0.43      0.39      0.35      3836\n",
      "weighted avg       0.43      0.38      0.35      3836\n",
      "\n"
     ]
    }
   ],
   "source": [
    "print(\"\\n--- Performance of the Best Model on the Test Set ---\")\n",
    "best_model = grid_search.best_estimator_\n",
    "y_pred_mapped = best_model.predict(X_test)\n",
    "y_pred = pd.Series(y_pred_mapped).replace({2: -1}).values\n",
    "print(classification_report(y_test, y_pred, zero_division=0))"
   ]
  }
 ],
 "metadata": {
  "kernelspec": {
   "display_name": "venv",
   "language": "python",
   "name": "python3"
  },
  "language_info": {
   "codemirror_mode": {
    "name": "ipython",
    "version": 3
   },
   "file_extension": ".py",
   "mimetype": "text/x-python",
   "name": "python",
   "nbconvert_exporter": "python",
   "pygments_lexer": "ipython3",
   "version": "3.11.8"
  }
 },
 "nbformat": 4,
 "nbformat_minor": 5
}
