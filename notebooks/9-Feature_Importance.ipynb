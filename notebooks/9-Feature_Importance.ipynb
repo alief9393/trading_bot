{
 "cells": [
  {
   "cell_type": "code",
   "execution_count": null,
   "id": "dd78bf5b",
   "metadata": {},
   "outputs": [],
   "source": [
    "import joblib\n",
    "import xgboost as xgb\n",
    "import matplotlib.pyplot as plt\n",
    "import pandas as pd\n",
    "\n",
    "print(\"Loading the final trained BTC model...\")\n",
    "model_path = '../models/btc_usd_h4_xgb.pkl'\n",
    "\n",
    "try:\n",
    "    model = joblib.load(model_path)\n",
    "    print(\"Model loaded successfully.\")\n",
    "    \n",
    "    plt.rcParams['figure.figsize'] = [10, 10]\n",
    "    \n",
    "    xgb.plot_importance(model, importance_type='weight', title='Feature Importance (by Weight/Frequency)')\n",
    "    \n",
    "    plt.show()\n",
    "\n",
    "except FileNotFoundError:\n",
    "    print(f\"ERROR: Model file not found at '{model_path}'. Please ensure you have run the training notebook first.\")\n",
    "except Exception as e:\n",
    "    print(f\"An error occurred: {e}\")"
   ]
  },
  {
   "cell_type": "code",
   "execution_count": null,
   "id": "eb0393b7",
   "metadata": {},
   "outputs": [],
   "source": [
    "try:\n",
    "    xgb.plot_importance(model, importance_type='gain', title='Feature Importance (by Gain)')\n",
    "    plt.show()\n",
    "    \n",
    "    xgb.plot_importance(model, importance_type='cover', title='Feature Importance (by Cover)')\n",
    "    plt.show()\n",
    "\n",
    "except NameError:\n",
    "    print(\"Model was not loaded in the first cell. Please run the first cell successfully.\")\n",
    "except Exception as e:\n",
    "    print(f\"An error occurred: {e}\")"
   ]
  }
 ],
 "metadata": {
  "kernelspec": {
   "display_name": "venv",
   "language": "python",
   "name": "python3"
  },
  "language_info": {
   "codemirror_mode": {
    "name": "ipython",
    "version": 3
   },
   "file_extension": ".py",
   "mimetype": "text/x-python",
   "name": "python",
   "nbconvert_exporter": "python",
   "pygments_lexer": "ipython3",
   "version": "3.11.8"
  }
 },
 "nbformat": 4,
 "nbformat_minor": 5
}
