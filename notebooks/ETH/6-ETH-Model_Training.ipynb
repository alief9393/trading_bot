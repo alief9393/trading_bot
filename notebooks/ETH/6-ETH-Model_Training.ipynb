{
 "cells": [
  {
   "cell_type": "code",
   "execution_count": 1,
   "id": "35144ff3",
   "metadata": {},
   "outputs": [
    {
     "name": "stdout",
     "output_type": "stream",
     "text": [
      "Labeled data loaded successfully.\n",
      "Data shape: (16585, 31)\n"
     ]
    }
   ],
   "source": [
    "import pandas as pd\n",
    "import xgboost as xgb\n",
    "import joblib\n",
    "from sklearn.model_selection import train_test_split\n",
    "from sklearn.metrics import classification_report, confusion_matrix\n",
    "import seaborn as sns\n",
    "import matplotlib.pyplot as plt\n",
    "\n",
    "# Load the labeled dataset\n",
    "data_path = '../../data/eth_usd_h4_labeled.csv'\n",
    "df = pd.read_csv(data_path, index_col='timestamp', parse_dates=True)\n",
    "\n",
    "# Drop any remaining NaN values just in case\n",
    "df.dropna(inplace=True)\n",
    "\n",
    "print(\"Labeled data loaded successfully.\")\n",
    "print(f\"Data shape: {df.shape}\")"
   ]
  },
  {
   "cell_type": "code",
   "execution_count": 2,
   "id": "f5df0432",
   "metadata": {},
   "outputs": [
    {
     "name": "stdout",
     "output_type": "stream",
     "text": [
      "Data split into training and testing sets.\n",
      "X_train shape: (13268, 25)\n",
      "X_test shape: (3317, 25)\n"
     ]
    }
   ],
   "source": [
    "# Define our features (X) - these are all the indicator columns\n",
    "# We exclude the basic OHLCV and the target itself\n",
    "features = [col for col in df.columns if col not in ['open', 'high', 'low', 'close', 'volume', 'target']]\n",
    "X = df[features]\n",
    "\n",
    "# Define our target (y)\n",
    "y = df['target']\n",
    "\n",
    "# Split the data into training and testing sets\n",
    "# IMPORTANT: For time-series data, we should not shuffle!\n",
    "# We train on the past and test on the most recent future.\n",
    "X_train, X_test, y_train, y_test = train_test_split(X, y, test_size=0.2, shuffle=False)\n",
    "\n",
    "print(\"Data split into training and testing sets.\")\n",
    "print(f\"X_train shape: {X_train.shape}\")\n",
    "print(f\"X_test shape: {X_test.shape}\")"
   ]
  },
  {
   "cell_type": "code",
   "execution_count": 3,
   "id": "c64869f1",
   "metadata": {},
   "outputs": [
    {
     "name": "stdout",
     "output_type": "stream",
     "text": [
      "Data split into training and testing sets.\n",
      "Calculated weight for HOLD class: 1.38\n",
      "Training the XGBoost model with sample weights...\n"
     ]
    },
    {
     "name": "stderr",
     "output_type": "stream",
     "text": [
      "/Users/aliefchandrawijaya/trading_bot/venv/lib/python3.11/site-packages/xgboost/sklearn.py:1395: UserWarning: `use_label_encoder` is deprecated in 1.7.0.\n",
      "  warnings.warn(\"`use_label_encoder` is deprecated in 1.7.0.\")\n"
     ]
    },
    {
     "name": "stdout",
     "output_type": "stream",
     "text": [
      "Model training complete.\n"
     ]
    }
   ],
   "source": [
    "# --- COMPLETE REPLACEMENT FOR CELL 3 ---\n",
    "\n",
    "import pandas as pd\n",
    "import xgboost as xgb\n",
    "\n",
    "# Define our features (X) and target (y)\n",
    "features = [col for col in df.columns if col not in ['open', 'high', 'low', 'close', 'volume', 'target']]\n",
    "X = df[features]\n",
    "y = df['target']\n",
    "\n",
    "# Split the data chronologically\n",
    "X_train, X_test, y_train, y_test = train_test_split(X, y, test_size=0.2, shuffle=False)\n",
    "\n",
    "print(\"Data split into training and testing sets.\")\n",
    "\n",
    "# --- Calculate class weights to handle imbalance ---\n",
    "class_counts = y_train.value_counts()\n",
    "# Calculate weight for the '0' (HOLD) class\n",
    "# This makes each 'HOLD' sample as important as all 'BUY' and 'SELL' samples combined\n",
    "weight_for_hold = (class_counts.get(1, 0) + class_counts.get(-1, 0)) / class_counts.get(0, 1)\n",
    "print(f\"Calculated weight for HOLD class: {weight_for_hold:.2f}\")\n",
    "\n",
    "# Create a weight array for each sample in the training set\n",
    "sample_weights = y_train.apply(lambda x: weight_for_hold if x == 0 else 1)\n",
    "\n",
    "# Initialize the XGBoost Classifier with stronger regularization\n",
    "model = xgb.XGBClassifier(\n",
    "    objective='multi:softprob',\n",
    "    num_class=3,\n",
    "    use_label_encoder=False,\n",
    "    eval_metric='mlogloss',\n",
    "    n_estimators=500,\n",
    "    learning_rate=0.05,\n",
    "    max_depth=5,\n",
    "    gamma=1,\n",
    "    reg_lambda=5,\n",
    "    subsample=0.7,\n",
    "    colsample_bytree=0.9\n",
    ")\n",
    "\n",
    "# Map target labels for the model\n",
    "y_train_mapped = y_train.replace({-1: 2})\n",
    "y_test_mapped = y_test.replace({-1: 2})\n",
    "\n",
    "# Train the model using the sample weights\n",
    "print(\"Training the XGBoost model with sample weights...\")\n",
    "model.fit(X_train, y_train_mapped, sample_weight=sample_weights.values)\n",
    "print(\"Model training complete.\")"
   ]
  },
  {
   "cell_type": "code",
   "execution_count": 4,
   "id": "d2f0ab23",
   "metadata": {},
   "outputs": [
    {
     "name": "stdout",
     "output_type": "stream",
     "text": [
      "Classification Report:\n",
      "              precision    recall  f1-score   support\n",
      "\n",
      "          -1       0.65      0.42      0.51       870\n",
      "           0       0.54      0.80      0.65      1503\n",
      "           1       0.62      0.35      0.45       944\n",
      "\n",
      "    accuracy                           0.57      3317\n",
      "   macro avg       0.60      0.52      0.53      3317\n",
      "weighted avg       0.59      0.57      0.55      3317\n",
      "\n",
      "\n",
      "Confusion Matrix:\n"
     ]
    },
    {
     "data": {
      "image/png": "[encoded data removed]",
      "text/plain": [
       "<Figure size 640x480 with 2 Axes>"
      ]
     },
     "metadata": {},
     "output_type": "display_data"
    }
   ],
   "source": [
    "# Make predictions on the test data\n",
    "y_pred_mapped = model.predict(X_test)\n",
    "\n",
    "# Map the predictions back from 2 to -1 to make the report readable\n",
    "y_pred = pd.Series(y_pred_mapped).replace({2: -1}).values\n",
    "\n",
    "# Print the classification report\n",
    "print(\"Classification Report:\")\n",
    "print(classification_report(y_test, y_pred, zero_division=0))\n",
    "\n",
    "# Display the confusion matrix\n",
    "print(\"\\nConfusion Matrix:\")\n",
    "cm = confusion_matrix(y_test, y_pred, labels=[-1, 0, 1])\n",
    "sns.heatmap(cm, annot=True, fmt='d', xticklabels=[-1, 0, 1], yticklabels=[-1, 0, 1])\n",
    "plt.xlabel('Predicted')\n",
    "plt.ylabel('Actual')\n",
    "plt.show()"
   ]
  },
  {
   "cell_type": "code",
   "execution_count": 5,
   "id": "85922e27",
   "metadata": {},
   "outputs": [
    {
     "name": "stdout",
     "output_type": "stream",
     "text": [
      "Model saved successfully to: ../../models/eth_usd_h4.pkl\n"
     ]
    }
   ],
   "source": [
    "# Save the trained model to the 'models' directory\n",
    "model_path = '../../models/eth_usd_h4.pkl'\n",
    "joblib.dump(model, model_path)\n",
    "\n",
    "print(f\"Model saved successfully to: {model_path}\")"
   ]
  }
 ],
 "metadata": {
  "kernelspec": {
   "display_name": "venv",
   "language": "python",
   "name": "python3"
  },
  "language_info": {
   "codemirror_mode": {
    "name": "ipython",
    "version": 3
   },
   "file_extension": ".py",
   "mimetype": "text/x-python",
   "name": "python",
   "nbconvert_exporter": "python",
   "pygments_lexer": "ipython3",
   "version": "3.11.8"
  }
 },
 "nbformat": 4,
 "nbformat_minor": 5
}
